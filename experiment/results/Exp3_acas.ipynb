{
 "cells": [
  {
   "cell_type": "code",
   "execution_count": 1,
   "id": "27434271",
   "metadata": {},
   "outputs": [],
   "source": [
    "import matplotlib.pyplot as plt\n",
    "import numpy as np\n",
    "from pathlib import Path\n",
    "from itertools import product\n",
    "from scipy.stats import pearsonr\n",
    "\n"
   ]
  },
  {
   "cell_type": "code",
   "execution_count": null,
   "id": "225579d6",
   "metadata": {},
   "outputs": [],
   "source": []
  },
  {
   "cell_type": "code",
   "execution_count": null,
   "id": "8f22daf1",
   "metadata": {},
   "outputs": [],
   "source": []
  },
  {
   "cell_type": "code",
   "execution_count": 2,
   "id": "6ee3c6cb",
   "metadata": {},
   "outputs": [],
   "source": [
    "class Dummy_obj:\n",
    "    def __init__(self, onnx, vnnlib, n_splits, ot, res_o, lambda_t, lambda_res):\n",
    "        self.onnx, self.vnnlib, self.n_splits = onnx, vnnlib, int(n_splits)\n",
    "        self.ot, self.res_o = float(ot), res_o\n",
    "        self.lambda_t, self.lambda_res = lambda_t, lambda_res\n",
    "        self.skip = True if n_splits==-1 else False\n",
    "        \n",
    "        \n",
    "        \n",
    "    def __str__(self):\n",
    "        return f\"Instance: {self.onnx}, {self.vnnlib}, {self.n_splits}, {self.res_o}, {self.ot}, {self.lambda_res}, {self.lambda_t}\"\n",
    "    "
   ]
  },
  {
   "cell_type": "code",
   "execution_count": 3,
   "id": "eb12145c",
   "metadata": {},
   "outputs": [],
   "source": [
    "def load_csv(file):\n",
    "    with open(file) as f:\n",
    "        # get the lambda values\n",
    "        header = f.readline()\n",
    "        lambdas = header.split(\",\")[7:]\n",
    "        lambdas = [i for i in lambdas if \"_t\" in i]\n",
    "        lambdas = [float(i.split(\"_\")[0]) for i in lambdas]\n",
    "#         print(lambdas)\n",
    "        \n",
    "        rows = []\n",
    "        for l in f:\n",
    "            fileds = l.split(',')\n",
    "            assert len(fileds)==27\n",
    "            if fileds[4] in [\"SKIPPED\", \"SPLIT_FAILED\"]:\n",
    "                rows.append( Dummy_obj(fileds[0], fileds[1], -1, -1, -1, [], [] ))\n",
    "                continue\n",
    "                \n",
    "            # build lambda dict\n",
    "            lambda_t = []\n",
    "            lambda_res = []\n",
    "            for i in range(7, len(header.split(\",\")) , 2):\n",
    "                lambda_res.append(fileds[i])\n",
    "                lambda_t.append(float(fileds[i+1]))\n",
    "#             print(lambda_t)\n",
    "#             print(lambda_res)\n",
    "            rows.append( Dummy_obj(fileds[0], fileds[1], fileds[4], fileds[6], fileds[5], lambda_t, lambda_res ))\n",
    "    return (file.stem, rows, lambdas)\n",
    "            "
   ]
  },
  {
   "cell_type": "code",
   "execution_count": 4,
   "id": "658225af",
   "metadata": {},
   "outputs": [],
   "source": [
    "exp2_path = Path(\"/Users/linhan/relusplitter/experiment/results/exp4\")\n",
    "\n",
    "def get_ress(benchmark_str):\n",
    "    res_abcrown = []\n",
    "    res_nsat    = []\n",
    "    res_nnenum  = []\n",
    "\n",
    "    for f in exp2_path.iterdir():\n",
    "        if f.suffix != \".csv\":\n",
    "            continue\n",
    "        if \"marabou\" in f.stem:\n",
    "            continue\n",
    "        if benchmark_str not in f.stem:\n",
    "            continue\n",
    "\n",
    "        if \"abcrown\" in f.stem:\n",
    "            res_abcrown.append(f)\n",
    "        elif \"neuralsat\" in f.stem:\n",
    "            res_nsat.append(f)\n",
    "        elif \"nnenum\" in f.stem:\n",
    "            res_nnenum.append(f)\n",
    "\n",
    "    #     results.append(load_csv(f))\n",
    "    #     print(f.stem)\n",
    "    func = lambda x: x.stem.split(\"~\")[-2]+x.stem.split(\"~\")[-3]\n",
    "    res_abcrown.sort(key=func)\n",
    "    res_nsat.sort(key=func)\n",
    "    res_nnenum.sort(key=func)\n",
    "    print(len(res_abcrown))\n",
    "    print(len(res_nsat))\n",
    "    print(len(res_nnenum))\n",
    "    return res_abcrown, res_nsat, res_nnenum\n",
    "    \n"
   ]
  },
  {
   "cell_type": "code",
   "execution_count": 5,
   "id": "d3b929f2",
   "metadata": {},
   "outputs": [],
   "source": [
    "def check_lambda(fp, gen_talbe=True):\n",
    "    fname, dps, lambdas = load_csv(fp)\n",
    "    lambda_t_total = [0 for _ in lambdas]\n",
    "    cnt = 0\n",
    "    for dp in dps:\n",
    "        if len(set([i for i in [dp.res_o] + dp.lambda_res if i in [\"sat\", \"unsat\"]])) > 1:\n",
    "            # Check for conflicting result\n",
    "            continue\n",
    "        if dp.skip:\n",
    "            continue\n",
    "        lambda_t_total = [a + b for a, b in zip(lambda_t_total, dp.lambda_t)]\n",
    "        cnt += 1\n",
    "        \n",
    "    print(\"==============================\")\n",
    "    print(fp)\n",
    "    print(cnt)\n",
    "    print(lambdas)\n",
    "    print(lambda_t_total)\n",
    "    \n",
    "    # Calculate averages for lambda_t_total\n",
    "    avg_lambda_t_total = [i/cnt for i in lambda_t_total]\n",
    "    print(avg_lambda_t_total)\n",
    "    \n",
    "    # Check correlation between lambdas and avg_lambda_t_total\n",
    "    correlation, p_value = pearsonr(lambdas, avg_lambda_t_total)\n",
    "    \n",
    "    print(f\"Pearson correlation coefficient: {correlation}\")\n",
    "    print(f\"P-value: {p_value}\")\n",
    "    \n",
    "    if gen_talbe:\n",
    "        # Calculate averages for lambda_t_total\n",
    "        print(\" & \".join([str(i) for i in lambdas]))\n",
    "        avg_lambda_t_total = [round(i/cnt, 2) for i in lambda_t_total]\n",
    "        print(\" & \".join([str(i) for i in avg_lambda_t_total]))\n",
    "\n",
    "    \n",
    "    return lambda_t_total, cnt, lambdas"
   ]
  },
  {
   "cell_type": "markdown",
   "id": "c55e3ec5",
   "metadata": {},
   "source": [
    "# ACAS XU"
   ]
  },
  {
   "cell_type": "code",
   "execution_count": 6,
   "id": "e081e2b4",
   "metadata": {},
   "outputs": [
    {
     "name": "stdout",
     "output_type": "stream",
     "text": [
      "1\n",
      "1\n",
      "1\n"
     ]
    }
   ],
   "source": [
    "res_abcrown, res_nsat, res_nnenum = get_ress(\"acas\")"
   ]
  },
  {
   "cell_type": "code",
   "execution_count": 7,
   "id": "3008fab0",
   "metadata": {},
   "outputs": [
    {
     "name": "stdout",
     "output_type": "stream",
     "text": [
      "==============================\n",
      "/Users/linhan/relusplitter/experiment/results/exp4/acasxu~abcrown~stable~random~1~lambda.csv\n",
      "185\n",
      "[0.001, 0.01, 0.1, 0.2, 0.4, 0.8, 1.0, 2.0, 4.0, 8.0]\n",
      "[553.1386494636536, 528.5515027046204, 552.3865172863007, 552.6985158920288, 552.8683381080627, 553.6096367835999, 553.9837222099304, 552.8306589126587, 553.3945982456207, 552.1432781219482]\n",
      "[2.9899386457494788, 2.857035149754705, 2.985873066412436, 2.987559545362318, 2.9884775032868256, 2.992484523154594, 2.9945066065401647, 2.988273831960317, 2.991322152679031, 2.9845582601186393]\n",
      "Pearson correlation coefficient: 0.20061893499595126\n",
      "P-value: 0.5783866017385952\n",
      "0.001 & 0.01 & 0.1 & 0.2 & 0.4 & 0.8 & 1.0 & 2.0 & 4.0 & 8.0\n",
      "2.99 & 2.86 & 2.99 & 2.99 & 2.99 & 2.99 & 2.99 & 2.99 & 2.99 & 2.98\n",
      "==============================\n",
      "/Users/linhan/relusplitter/experiment/results/exp4/acasxu~neuralsat~stable~random~1~lambda.csv\n",
      "184\n",
      "[0.001, 0.01, 0.1, 0.2, 0.4, 0.8, 1.0, 2.0, 4.0, 8.0]\n",
      "[1419.5996000000005, 1400.7104000000002, 1404.1417999999996, 1402.605900000001, 1404.0745000000002, 1406.5219999999995, 1407.7786999999992, 1404.3667000000003, 1401.8354000000004, 1423.1558999999995]\n",
      "[7.7152152173913064, 7.6125565217391316, 7.631205434782607, 7.622858152173918, 7.630839673913044, 7.644141304347824, 7.650971195652169, 7.632427717391306, 7.618670652173916, 7.734542934782606]\n",
      "Pearson correlation coefficient: 0.5314149380326825\n",
      "P-value: 0.11392890858185623\n",
      "0.001 & 0.01 & 0.1 & 0.2 & 0.4 & 0.8 & 1.0 & 2.0 & 4.0 & 8.0\n",
      "7.72 & 7.61 & 7.63 & 7.62 & 7.63 & 7.64 & 7.65 & 7.63 & 7.62 & 7.73\n",
      "==============================\n",
      "/Users/linhan/relusplitter/experiment/results/exp4/acasxu~nnenum~stable~random~1~lambda.csv\n",
      "181\n",
      "[0.001, 0.01, 0.1, 0.2, 0.4, 0.8, 1.0, 2.0, 4.0, 8.0]\n",
      "[1805.26, 1901.0000000000016, 1883.0000000000014, 1765.5100000000011, 1910.4000000000015, 2313.949999999991, 2212.0399999999977, 2413.1399999999912, 2790.6099999999874, 3241.239999999987]\n",
      "[9.973812154696132, 10.502762430939235, 10.40331491712708, 9.754198895027631, 10.554696132596693, 12.78425414364636, 12.221215469613247, 13.332265193370118, 15.417734806629765, 17.907403314917055]\n",
      "Pearson correlation coefficient: 0.9541113724237391\n",
      "P-value: 1.835186127340856e-05\n",
      "0.001 & 0.01 & 0.1 & 0.2 & 0.4 & 0.8 & 1.0 & 2.0 & 4.0 & 8.0\n",
      "9.97 & 10.5 & 10.4 & 9.75 & 10.55 & 12.78 & 12.22 & 13.33 & 15.42 & 17.91\n"
     ]
    }
   ],
   "source": [
    "lambda_t_total, cnt, lambdas = check_lambda(res_abcrown[0])\n",
    "lambda_t_total, cnt, lambdas = check_lambda(res_nsat[0])\n",
    "lambda_t_total, cnt, lambdas = check_lambda(res_nnenum[0])"
   ]
  },
  {
   "cell_type": "markdown",
   "id": "982b155f",
   "metadata": {},
   "source": [
    "# MNIST_FC"
   ]
  },
  {
   "cell_type": "code",
   "execution_count": 8,
   "id": "5989648b",
   "metadata": {},
   "outputs": [
    {
     "name": "stdout",
     "output_type": "stream",
     "text": [
      "1\n",
      "1\n",
      "1\n"
     ]
    }
   ],
   "source": [
    "res_abcrown, res_nsat, res_nnenum = get_ress(\"mnist\")"
   ]
  },
  {
   "cell_type": "code",
   "execution_count": 9,
   "id": "7accfe79",
   "metadata": {},
   "outputs": [
    {
     "name": "stdout",
     "output_type": "stream",
     "text": [
      "==============================\n",
      "/Users/linhan/relusplitter/experiment/results/exp4/mnist_fc~abcrown~stable~random~1~lambda.csv\n",
      "64\n",
      "[0.001, 0.01, 0.1, 0.2, 0.4, 0.8, 1.0, 2.0, 4.0, 8.0]\n",
      "[4947.509738683701, 4823.5628781318665, 4710.380713701248, 4712.106866836548, 4723.447039604187, 4706.656981706619, 4717.385422468185, 4707.559799194336, 4713.69163608551, 4708.949820995331]\n",
      "[77.30483966693282, 75.36816997081041, 73.599698651582, 73.62666979432106, 73.80385999381542, 73.54151533916593, 73.7091472260654, 73.5556218624115, 73.6514318138361, 73.57734095305204]\n",
      "Pearson correlation coefficient: -0.33160856117512655\n",
      "P-value: 0.34924850005078695\n",
      "0.001 & 0.01 & 0.1 & 0.2 & 0.4 & 0.8 & 1.0 & 2.0 & 4.0 & 8.0\n",
      "77.3 & 75.37 & 73.6 & 73.63 & 73.8 & 73.54 & 73.71 & 73.56 & 73.65 & 73.58\n",
      "==============================\n",
      "/Users/linhan/relusplitter/experiment/results/exp4/mnist_fc~neuralsat~stable~random~1~lambda.csv\n",
      "85\n",
      "[0.001, 0.01, 0.1, 0.2, 0.4, 0.8, 1.0, 2.0, 4.0, 8.0]\n",
      "[10923.745299999999, 10035.189599999998, 10268.1404, 9739.7479, 10057.025400000002, 9970.1702, 10049.549200000001, 10089.195899999999, 9967.800599999999, 10064.4921]\n",
      "[128.51465058823527, 118.06105411764703, 120.80165176470588, 114.58526941176471, 118.31794588235297, 117.29612, 118.22999058823531, 118.69642235294116, 117.26824235294116, 118.4057894117647]\n",
      "Pearson correlation coefficient: -0.18591373553088325\n",
      "P-value: 0.6070812617721331\n",
      "0.001 & 0.01 & 0.1 & 0.2 & 0.4 & 0.8 & 1.0 & 2.0 & 4.0 & 8.0\n",
      "128.51 & 118.06 & 120.8 & 114.59 & 118.32 & 117.3 & 118.23 & 118.7 & 117.27 & 118.41\n",
      "==============================\n",
      "/Users/linhan/relusplitter/experiment/results/exp4/mnist_fc~nnenum~stable~random~1~lambda.csv\n",
      "59\n",
      "[0.001, 0.01, 0.1, 0.2, 0.4, 0.8, 1.0, 2.0, 4.0, 8.0]\n",
      "[11930.83, 12551.26, 13253.07, 13392.519999999999, 13529.64, 13651.45, 13664.23, 13774.06, 14029.5, 13913.09]\n",
      "[202.21745762711865, 212.73322033898305, 224.62830508474576, 226.99186440677963, 229.31593220338982, 231.3805084745763, 231.5971186440678, 233.4586440677966, 237.78813559322035, 235.8150847457627]\n",
      "Pearson correlation coefficient: 0.5583043458556782\n",
      "P-value: 0.09347815501432644\n",
      "0.001 & 0.01 & 0.1 & 0.2 & 0.4 & 0.8 & 1.0 & 2.0 & 4.0 & 8.0\n",
      "202.22 & 212.73 & 224.63 & 226.99 & 229.32 & 231.38 & 231.6 & 233.46 & 237.79 & 235.82\n"
     ]
    }
   ],
   "source": [
    "lambda_t_total, cnt, lambdas = check_lambda(res_abcrown[0])\n",
    "lambda_t_total, cnt, lambdas = check_lambda(res_nsat[0])\n",
    "lambda_t_total, cnt, lambdas = check_lambda(res_nnenum[0])"
   ]
  },
  {
   "cell_type": "code",
   "execution_count": null,
   "id": "25a994f7",
   "metadata": {},
   "outputs": [],
   "source": []
  },
  {
   "cell_type": "markdown",
   "id": "3f4e6b81",
   "metadata": {},
   "source": [
    "# TLL"
   ]
  },
  {
   "cell_type": "code",
   "execution_count": 10,
   "id": "49829184",
   "metadata": {},
   "outputs": [
    {
     "name": "stdout",
     "output_type": "stream",
     "text": [
      "1\n",
      "1\n",
      "0\n"
     ]
    }
   ],
   "source": [
    "res_abcrown, res_nsat, res_nnenum = get_ress(\"tll\")"
   ]
  },
  {
   "cell_type": "code",
   "execution_count": 11,
   "id": "79a56786",
   "metadata": {},
   "outputs": [
    {
     "name": "stdout",
     "output_type": "stream",
     "text": [
      "==============================\n",
      "/Users/linhan/relusplitter/experiment/results/exp4/tllverifybench~abcrown~stable~random~1~lambda.csv\n",
      "32\n",
      "[0.001, 0.01, 0.1, 0.2, 0.4, 0.8, 1.0, 2.0, 4.0, 8.0]\n",
      "[336.8283648490906, 334.6800682544708, 334.88661456108093, 334.9158864021301, 335.3400752544403, 333.93287086486816, 331.247305393219, 330.4325656890869, 330.99208521842957, 331.3249979019165]\n",
      "[10.52588640153408, 10.458752132952213, 10.46520670503378, 10.466121450066566, 10.47937735170126, 10.43540221452713, 10.351478293538094, 10.326017677783966, 10.343502663075924, 10.35390618443489]\n",
      "Pearson correlation coefficient: -0.6512228624471613\n",
      "P-value: 0.041385423059841345\n",
      "0.001 & 0.01 & 0.1 & 0.2 & 0.4 & 0.8 & 1.0 & 2.0 & 4.0 & 8.0\n",
      "10.53 & 10.46 & 10.47 & 10.47 & 10.48 & 10.44 & 10.35 & 10.33 & 10.34 & 10.35\n",
      "==============================\n",
      "/Users/linhan/relusplitter/experiment/results/exp4/tllverifybench~neuralsat~stable~random~1~lambda.csv\n",
      "32\n",
      "[0.001, 0.01, 0.1, 0.2, 0.4, 0.8, 1.0, 2.0, 4.0, 8.0]\n",
      "[305.2282, 302.3483999999999, 301.06589999999994, 302.0854, 301.604, 302.14269999999993, 297.205, 297.6078, 297.4165, 296.7636]\n",
      "[9.53838125, 9.448387499999997, 9.408309374999998, 9.44016875, 9.425125, 9.441959374999998, 9.28765625, 9.30024375, 9.294265625, 9.2738625]\n",
      "Pearson correlation coefficient: -0.703412660801455\n",
      "P-value: 0.02322992903899134\n",
      "0.001 & 0.01 & 0.1 & 0.2 & 0.4 & 0.8 & 1.0 & 2.0 & 4.0 & 8.0\n",
      "9.54 & 9.45 & 9.41 & 9.44 & 9.43 & 9.44 & 9.29 & 9.3 & 9.29 & 9.27\n"
     ]
    }
   ],
   "source": [
    "lambda_t_total, cnt, lambdas = check_lambda(res_abcrown[0])\n",
    "lambda_t_total, cnt, lambdas = check_lambda(res_nsat[0])"
   ]
  },
  {
   "cell_type": "code",
   "execution_count": 12,
   "id": "a0152ae2",
   "metadata": {},
   "outputs": [
    {
     "name": "stdout",
     "output_type": "stream",
     "text": [
      "10\n",
      "10\n"
     ]
    }
   ],
   "source": [
    "print(len(lambda_t_total))\n",
    "print(len(lambdas))"
   ]
  },
  {
   "cell_type": "code",
   "execution_count": null,
   "id": "fd15ce88",
   "metadata": {},
   "outputs": [],
   "source": []
  },
  {
   "cell_type": "code",
   "execution_count": null,
   "id": "d91b600d",
   "metadata": {},
   "outputs": [],
   "source": []
  }
 ],
 "metadata": {
  "kernelspec": {
   "display_name": "Python 3 (ipykernel)",
   "language": "python",
   "name": "python3"
  },
  "language_info": {
   "codemirror_mode": {
    "name": "ipython",
    "version": 3
   },
   "file_extension": ".py",
   "mimetype": "text/x-python",
   "name": "python",
   "nbconvert_exporter": "python",
   "pygments_lexer": "ipython3",
   "version": "3.9.20"
  }
 },
 "nbformat": 4,
 "nbformat_minor": 5
}
