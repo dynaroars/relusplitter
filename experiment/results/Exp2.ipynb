{
 "cells": [
  {
   "cell_type": "code",
   "execution_count": 1,
   "id": "14e08b03",
   "metadata": {},
   "outputs": [],
   "source": [
    "import matplotlib.pyplot as plt\n",
    "from pathlib import Path\n",
    "from itertools import product"
   ]
  },
  {
   "cell_type": "code",
   "execution_count": 2,
   "id": "c48ed119",
   "metadata": {},
   "outputs": [],
   "source": [
    "class Dummy_obj:\n",
    "    def __init__(self, onnx, vnnlib, n_splits, ot, st, bt, res_o, res_s, res_b):\n",
    "        self.onnx, self.vnnlib, self.n_splits = onnx, vnnlib, int(n_splits)\n",
    "        self.ot, self.st, self.bt = float(ot), float(st), float(bt)\n",
    "        self.res_o, self.res_s, self.res_b = res_o, res_s, res_b\n",
    "        self.skip = True if n_splits==-1 else False\n",
    "        \n",
    "    def __str__(self):\n",
    "        return f\"Instance: {self.onnx}, {self.vnnlib}, {self.n_splits}, {self.res_o}, {self.res_b}, {self.res_s}, {self.ot}, {self.bt}, {self.st}\""
   ]
  },
  {
   "cell_type": "code",
   "execution_count": 3,
   "id": "cf160f39",
   "metadata": {},
   "outputs": [],
   "source": [
    "def load_csv(file):\n",
    "    with open(file) as f:\n",
    "        f.readline()\n",
    "        rows = []\n",
    "        for l in f:\n",
    "#             onnx,vnnlib,strategy,mask,n_splits,original_r,original_t,splitted_r,splitted_t,baseline_r,baseline_t\n",
    "            fileds = l.split(',')\n",
    "            assert len(fileds)==11\n",
    "            if fileds[4] == \"SKIPPED\":\n",
    "                rows.append( Dummy_obj(fileds[0], fileds[1], -1, -1, -1, -1, -1, -1, -1) )\n",
    "                continue\n",
    "            if fileds[4] == \"SPLIT_FAILED\":\n",
    "                rows.append( Dummy_obj(fileds[0], fileds[1], -1, -1, -1, -1, -1, -1, -1) )\n",
    "                continue\n",
    "            rows.append( Dummy_obj(fileds[0], fileds[1], fileds[4], \n",
    "                                   fileds[6], fileds[8], fileds[10], \n",
    "                                   fileds[5], fileds[7], fileds[9]) )\n",
    "    return (file.stem, rows)\n",
    "            "
   ]
  },
  {
   "cell_type": "code",
   "execution_count": 4,
   "id": "f3108ac7",
   "metadata": {},
   "outputs": [],
   "source": [
    "exp2_path = Path(\"/Users/linhan/relusplitter/experiment/results/exp2\")\n",
    "\n",
    "def get_ress(benchmark_str):\n",
    "    res_abcrown = []\n",
    "    res_nsat    = []\n",
    "    res_nnenum  = []\n",
    "\n",
    "    for f in exp2_path.iterdir():\n",
    "        if f.suffix != \".csv\":\n",
    "            continue\n",
    "        if \"marabou\" in f.stem:\n",
    "            continue\n",
    "        if benchmark_str not in f.stem:\n",
    "            continue\n",
    "\n",
    "        if \"abcrown\" in f.stem:\n",
    "            res_abcrown.append(f)\n",
    "        elif \"neuralsat\" in f.stem:\n",
    "            res_nsat.append(f)\n",
    "        elif \"nnenum\" in f.stem:\n",
    "            res_nnenum.append(f)\n",
    "\n",
    "    #     results.append(load_csv(f))\n",
    "    #     print(f.stem)\n",
    "    func = lambda x: x.stem.split(\"~\")[-2]+x.stem.split(\"~\")[-3]\n",
    "    res_abcrown.sort(key=func)\n",
    "    res_nsat.sort(key=func)\n",
    "    res_nnenum.sort(key=func)\n",
    "    print(len(res_abcrown))\n",
    "    print(len(res_nsat))\n",
    "    print(len(res_nnenum))\n",
    "    return res_abcrown, res_nsat, res_nnenum\n",
    "    \n"
   ]
  },
  {
   "cell_type": "code",
   "execution_count": null,
   "id": "77baea49",
   "metadata": {},
   "outputs": [],
   "source": [
    "\n",
    "\n"
   ]
  },
  {
   "cell_type": "code",
   "execution_count": 5,
   "id": "51239c6c",
   "metadata": {},
   "outputs": [],
   "source": [
    "from math import log\n",
    "\n",
    "\n",
    "\n",
    "# not really slowdown but just diff in veri time\n",
    "def cal_slowdown(dp):\n",
    "    if dp.st == -1:\n",
    "        return 0\n",
    "    if dp.res_s == \"timeout\":\n",
    "#         print(\"TO overflow\")\n",
    "        pass\n",
    "    return dp.st - dp.ot\n",
    "\n",
    "\n",
    "# same metric, but div by num of neurons\n",
    "def cal_slowdown_per_neuron(dp):\n",
    "    if dp.st == -1:\n",
    "        return 0\n",
    "    return cal_slowdown(dp) / dp.n_splits"
   ]
  },
  {
   "cell_type": "code",
   "execution_count": 6,
   "id": "c943de62",
   "metadata": {},
   "outputs": [],
   "source": [
    "decimals = 3\n",
    "def format_number(num):\n",
    "    return f\"{num:.{decimals}f}\""
   ]
  },
  {
   "cell_type": "markdown",
   "id": "ebbdc7c7",
   "metadata": {},
   "source": [
    "# ACAS XU"
   ]
  },
  {
   "cell_type": "code",
   "execution_count": 7,
   "id": "10cb49d8",
   "metadata": {},
   "outputs": [
    {
     "name": "stdout",
     "output_type": "stream",
     "text": [
      "5\n",
      "5\n",
      "5\n"
     ]
    }
   ],
   "source": [
    "res_abcrown, res_nsat, res_nnenum = get_ress(\"acas\")"
   ]
  },
  {
   "cell_type": "code",
   "execution_count": 8,
   "id": "e2bd88c2",
   "metadata": {},
   "outputs": [
    {
     "name": "stdout",
     "output_type": "stream",
     "text": [
      "<< abcrown >>\n",
      "[['stable+', 'random'], ['stable-', 'random'], ['unstable', 'random'], ['unstable', 'reluS+'], ['unstable', 'reluS-']]\n",
      "0.093 & 0.008 & 0.036 & 0.019 & 0.031\n",
      "0.616 & 0.136 & 0.608 & 0.123 & 0.631\n"
     ]
    }
   ],
   "source": [
    "\n",
    "fnames = []\n",
    "rows = []\n",
    "\n",
    "for r in res_abcrown:\n",
    "    fname, dps = load_csv(r)\n",
    "    fnames.append(fname)\n",
    "    rows.append(dps)\n",
    "\n",
    "cnt = 0\n",
    "spn_total = [0,0,0,0,0]\n",
    "slowdown_total  = [0,0,0,0,0]\n",
    "for d1,d2,d3,d4,d5 in zip(*rows):\n",
    "    assert d1.onnx == d2.onnx == d3.onnx == d4.onnx == d5.onnx\n",
    "    assert d1.vnnlib == d2.vnnlib == d3.vnnlib == d4.vnnlib == d5.vnnlib\n",
    "    dps = [d1, d2, d3, d4, d5]\n",
    "    if any([i.skip for i in dps]):\n",
    "        continue\n",
    "        \n",
    "    spns = [cal_slowdown_per_neuron(dp) for dp in dps]\n",
    "    slowdowns = [cal_slowdown(dp) for dp in dps]\n",
    "    spn_total = [a+b for a,b in zip(spn_total, spns)]\n",
    "    slowdown_total = [a+b for a,b in zip(slowdown_total, slowdowns)]\n",
    "    cnt += 1\n",
    "        \n",
    "    \n",
    "print(\"<< abcrown >>\")\n",
    "print([i.split(\"~\")[2:-1] for i in fnames])\n",
    "formatted_spn = [format_number(i/cnt) for i in spn_total]\n",
    "print(\" & \".join(formatted_spn))\n",
    "\n",
    "# Format and print slowdown_total\n",
    "formatted_slowdown = [format_number(i/cnt) for i in slowdown_total]\n",
    "print(\" & \".join(formatted_slowdown))"
   ]
  },
  {
   "cell_type": "code",
   "execution_count": 9,
   "id": "495ac83a",
   "metadata": {},
   "outputs": [
    {
     "name": "stdout",
     "output_type": "stream",
     "text": [
      "<< neuralsat >>\n",
      "[['stable+', 'random'], ['stable-', 'random'], ['unstable', 'random'], ['unstable', 'reluS+'], ['unstable', 'reluS-']]\n",
      "0.293 & 0.046 & 0.094 & 0.105 & 0.016\n",
      "2.943 & 0.667 & 1.077 & 1.090 & 0.201\n"
     ]
    }
   ],
   "source": [
    "\n",
    "fnames = []\n",
    "rows = []\n",
    "\n",
    "for r in res_nsat:\n",
    "    fname, dps = load_csv(r)\n",
    "    fnames.append(fname)\n",
    "    rows.append(dps)\n",
    "\n",
    "cnt = 0\n",
    "spn_total = [0,0,0,0,0]\n",
    "slowdown_total  = [0,0,0,0,0]\n",
    "for d1,d2,d3,d4,d5 in zip(*rows):\n",
    "    assert d1.onnx == d2.onnx == d3.onnx == d4.onnx == d5.onnx\n",
    "    assert d1.vnnlib == d2.vnnlib == d3.vnnlib == d4.vnnlib == d5.vnnlib\n",
    "    dps = [d1, d2, d3, d4, d5]\n",
    "    if any([i.skip for i in dps]):\n",
    "        continue\n",
    "        \n",
    "    spns = [cal_slowdown_per_neuron(dp) for dp in dps]\n",
    "    slowdowns = [cal_slowdown(dp) for dp in dps]\n",
    "    spn_total = [a+b for a,b in zip(spn_total, spns)]\n",
    "    slowdown_total = [a+b for a,b in zip(slowdown_total, slowdowns)]\n",
    "    cnt += 1\n",
    "        \n",
    "    \n",
    "print(\"<< neuralsat >>\")\n",
    "print([i.split(\"~\")[2:-1] for i in fnames])\n",
    "formatted_spn = [format_number(i/cnt) for i in spn_total]\n",
    "print(\" & \".join(formatted_spn))\n",
    "\n",
    "# Format and print slowdown_total\n",
    "formatted_slowdown = [format_number(i/cnt) for i in slowdown_total]\n",
    "print(\" & \".join(formatted_slowdown))"
   ]
  },
  {
   "cell_type": "code",
   "execution_count": 10,
   "id": "7aaf7907",
   "metadata": {},
   "outputs": [
    {
     "name": "stdout",
     "output_type": "stream",
     "text": [
      "<< nnenum >>\n",
      "[['stable+', 'random'], ['stable-', 'random'], ['unstable', 'random'], ['unstable', 'reluS+'], ['unstable', 'reluS-']]\n",
      "0.183 & 0.262 & 0.031 & 0.139 & 0.151\n",
      "1.940 & 4.941 & 0.530 & 3.963 & 2.722\n"
     ]
    }
   ],
   "source": [
    "\n",
    "fnames = []\n",
    "rows = []\n",
    "\n",
    "for r in res_nnenum:\n",
    "    fname, dps = load_csv(r)\n",
    "    fnames.append(fname)\n",
    "    rows.append(dps)\n",
    "\n",
    "cnt = 0\n",
    "spn_total = [0,0,0,0,0]\n",
    "slowdown_total  = [0,0,0,0,0]\n",
    "for d1,d2,d3,d4,d5 in zip(*rows):\n",
    "    assert d1.onnx == d2.onnx == d3.onnx == d4.onnx == d5.onnx\n",
    "    assert d1.vnnlib == d2.vnnlib == d3.vnnlib == d4.vnnlib == d5.vnnlib\n",
    "    dps = [d1, d2, d3, d4, d5]\n",
    "    if any([i.skip for i in dps]):\n",
    "        continue\n",
    "        \n",
    "    spns = [cal_slowdown_per_neuron(dp) for dp in dps]\n",
    "    slowdowns = [cal_slowdown(dp) for dp in dps]\n",
    "    spn_total = [a+b for a,b in zip(spn_total, spns)]\n",
    "    slowdown_total = [a+b for a,b in zip(slowdown_total, slowdowns)]\n",
    "    cnt += 1\n",
    "        \n",
    "    \n",
    "print(\"<< nnenum >>\")\n",
    "print([i.split(\"~\")[2:-1] for i in fnames])\n",
    "formatted_spn = [format_number(i/cnt) for i in spn_total]\n",
    "print(\" & \".join(formatted_spn))\n",
    "\n",
    "# Format and print slowdown_total\n",
    "formatted_slowdown = [format_number(i/cnt) for i in slowdown_total]\n",
    "print(\" & \".join(formatted_slowdown))"
   ]
  },
  {
   "cell_type": "code",
   "execution_count": null,
   "id": "77a7182a",
   "metadata": {},
   "outputs": [],
   "source": []
  },
  {
   "cell_type": "markdown",
   "id": "264926b3",
   "metadata": {},
   "source": [
    "# MNIST"
   ]
  },
  {
   "cell_type": "code",
   "execution_count": 11,
   "id": "20e77bf6",
   "metadata": {},
   "outputs": [
    {
     "name": "stdout",
     "output_type": "stream",
     "text": [
      "5\n",
      "5\n",
      "5\n"
     ]
    }
   ],
   "source": [
    "res_abcrown, res_nsat, res_nnenum = get_ress(\"mnist\")"
   ]
  },
  {
   "cell_type": "code",
   "execution_count": 12,
   "id": "76557bdd",
   "metadata": {},
   "outputs": [
    {
     "name": "stdout",
     "output_type": "stream",
     "text": [
      "<< abcrown >>\n",
      "[['stable+', 'random'], ['stable-', 'random'], ['unstable', 'random'], ['unstable', 'reluS+'], ['unstable', 'reluS-']]\n",
      "5.117 & 0.003 & 1.863 & 1.334 & 0.450\n",
      "73.367 & 0.722 & 54.851 & 42.984 & 13.327\n"
     ]
    }
   ],
   "source": [
    "\n",
    "fnames = []\n",
    "rows = []\n",
    "\n",
    "for r in res_abcrown:\n",
    "    fname, dps = load_csv(r)\n",
    "    fnames.append(fname)\n",
    "    rows.append(dps)\n",
    "\n",
    "cnt = 0\n",
    "spn_total = [0,0,0,0,0]\n",
    "slowdown_total  = [0,0,0,0,0]\n",
    "for d1,d2,d3,d4,d5 in zip(*rows):\n",
    "    assert d1.onnx == d2.onnx == d3.onnx == d4.onnx == d5.onnx\n",
    "    assert d1.vnnlib == d2.vnnlib == d3.vnnlib == d4.vnnlib == d5.vnnlib\n",
    "    dps = [d1, d2, d3, d4, d5]\n",
    "    if any([i.skip for i in dps]):\n",
    "        continue\n",
    "        \n",
    "    spns = [cal_slowdown_per_neuron(dp) for dp in dps]\n",
    "    slowdowns = [cal_slowdown(dp) for dp in dps]\n",
    "    spn_total = [a+b for a,b in zip(spn_total, spns)]\n",
    "    slowdown_total = [a+b for a,b in zip(slowdown_total, slowdowns)]\n",
    "    cnt += 1\n",
    "        \n",
    "    \n",
    "print(\"<< abcrown >>\")\n",
    "print([i.split(\"~\")[2:-1] for i in fnames])\n",
    "formatted_spn = [format_number(i/cnt) for i in spn_total]\n",
    "print(\" & \".join(formatted_spn))\n",
    "\n",
    "# Format and print slowdown_total\n",
    "formatted_slowdown = [format_number(i/cnt) for i in slowdown_total]\n",
    "print(\" & \".join(formatted_slowdown))"
   ]
  },
  {
   "cell_type": "code",
   "execution_count": 13,
   "id": "6a0d318f",
   "metadata": {},
   "outputs": [
    {
     "name": "stdout",
     "output_type": "stream",
     "text": [
      "<< neuralsat >>\n",
      "[['stable+', 'random'], ['stable-', 'random'], ['unstable', 'random'], ['unstable', 'reluS+'], ['unstable', 'reluS-']]\n",
      "1.527 & 0.135 & 0.717 & 0.608 & 0.358\n",
      "16.883 & 27.893 & 24.223 & 21.839 & 12.333\n"
     ]
    }
   ],
   "source": [
    "\n",
    "fnames = []\n",
    "rows = []\n",
    "\n",
    "for r in res_nsat:\n",
    "    fname, dps = load_csv(r)\n",
    "    fnames.append(fname)\n",
    "    rows.append(dps)\n",
    "\n",
    "cnt = 0\n",
    "spn_total = [0,0,0,0,0]\n",
    "slowdown_total  = [0,0,0,0,0]\n",
    "for d1,d2,d3,d4,d5 in zip(*rows):\n",
    "    assert d1.onnx == d2.onnx == d3.onnx == d4.onnx == d5.onnx\n",
    "    assert d1.vnnlib == d2.vnnlib == d3.vnnlib == d4.vnnlib == d5.vnnlib\n",
    "    dps = [d1, d2, d3, d4, d5]\n",
    "    if any([i.skip for i in dps]):\n",
    "        continue\n",
    "        \n",
    "    spns = [cal_slowdown_per_neuron(dp) for dp in dps]\n",
    "    slowdowns = [cal_slowdown(dp) for dp in dps]\n",
    "    spn_total = [a+b for a,b in zip(spn_total, spns)]\n",
    "    slowdown_total = [a+b for a,b in zip(slowdown_total, slowdowns)]\n",
    "    cnt += 1\n",
    "        \n",
    "    \n",
    "print(\"<< neuralsat >>\")\n",
    "print([i.split(\"~\")[2:-1] for i in fnames])\n",
    "formatted_spn = [format_number(i/cnt) for i in spn_total]\n",
    "print(\" & \".join(formatted_spn))\n",
    "\n",
    "# Format and print slowdown_total\n",
    "formatted_slowdown = [format_number(i/cnt) for i in slowdown_total]\n",
    "print(\" & \".join(formatted_slowdown))"
   ]
  },
  {
   "cell_type": "code",
   "execution_count": 14,
   "id": "f678ecd7",
   "metadata": {},
   "outputs": [
    {
     "name": "stdout",
     "output_type": "stream",
     "text": [
      "<< nnenum >>\n",
      "[['stable+', 'random'], ['stable-', 'random'], ['unstable', 'random'], ['unstable', 'reluS+'], ['unstable', 'reluS-']]\n",
      "6.553 & 0.499 & 3.362 & 1.886 & 4.039\n",
      "75.443 & 113.195 & 78.474 & 51.338 & 87.205\n"
     ]
    }
   ],
   "source": [
    "\n",
    "fnames = []\n",
    "rows = []\n",
    "\n",
    "for r in res_nnenum:\n",
    "    fname, dps = load_csv(r)\n",
    "    fnames.append(fname)\n",
    "    rows.append(dps)\n",
    "\n",
    "cnt = 0\n",
    "spn_total = [0,0,0,0,0]\n",
    "slowdown_total  = [0,0,0,0,0]\n",
    "for d1,d2,d3,d4,d5 in zip(*rows):\n",
    "    assert d1.onnx == d2.onnx == d3.onnx == d4.onnx == d5.onnx\n",
    "    assert d1.vnnlib == d2.vnnlib == d3.vnnlib == d4.vnnlib == d5.vnnlib\n",
    "    dps = [d1, d2, d3, d4, d5]\n",
    "    if any([i.skip for i in dps]):\n",
    "        continue\n",
    "        \n",
    "    spns = [cal_slowdown_per_neuron(dp) for dp in dps]\n",
    "    slowdowns = [cal_slowdown(dp) for dp in dps]\n",
    "    spn_total = [a+b for a,b in zip(spn_total, spns)]\n",
    "    slowdown_total = [a+b for a,b in zip(slowdown_total, slowdowns)]\n",
    "    cnt += 1\n",
    "        \n",
    "    \n",
    "print(\"<< nnenum >>\")\n",
    "print([i.split(\"~\")[2:-1] for i in fnames])\n",
    "formatted_spn = [format_number(i/cnt) for i in spn_total]\n",
    "print(\" & \".join(formatted_spn))\n",
    "\n",
    "# Format and print slowdown_total\n",
    "formatted_slowdown = [format_number(i/cnt) for i in slowdown_total]\n",
    "print(\" & \".join(formatted_slowdown))"
   ]
  },
  {
   "cell_type": "code",
   "execution_count": null,
   "id": "9f1114c5",
   "metadata": {},
   "outputs": [],
   "source": []
  },
  {
   "cell_type": "markdown",
   "id": "bcfb10d3",
   "metadata": {},
   "source": [
    "# TLL"
   ]
  },
  {
   "cell_type": "code",
   "execution_count": 15,
   "id": "d65227f4",
   "metadata": {},
   "outputs": [
    {
     "name": "stdout",
     "output_type": "stream",
     "text": [
      "5\n",
      "5\n",
      "0\n"
     ]
    }
   ],
   "source": [
    "res_abcrown, res_nsat, res_nnenum = get_ress(\"tll\")"
   ]
  },
  {
   "cell_type": "code",
   "execution_count": 16,
   "id": "4ffb460b",
   "metadata": {},
   "outputs": [
    {
     "name": "stdout",
     "output_type": "stream",
     "text": [
      "<< abcrown >>\n",
      "[['stable+', 'random'], ['stable-', 'random'], ['unstable', 'random'], ['unstable', 'reluS+'], ['unstable', 'reluS-']]\n",
      "0.105 & 0.006 & 0.003 & 0.003 & 0.003\n",
      "7.562 & 9.535 & 12.820 & 12.059 & 12.096\n"
     ]
    }
   ],
   "source": [
    "\n",
    "fnames = []\n",
    "rows = []\n",
    "\n",
    "for r in res_abcrown:\n",
    "    fname, dps = load_csv(r)\n",
    "    fnames.append(fname)\n",
    "    rows.append(dps)\n",
    "\n",
    "cnt = 0\n",
    "spn_total = [0,0,0,0,0]\n",
    "slowdown_total  = [0,0,0,0,0]\n",
    "for d1,d2,d3,d4,d5 in zip(*rows):\n",
    "    assert d1.onnx == d2.onnx == d3.onnx == d4.onnx == d5.onnx\n",
    "    assert d1.vnnlib == d2.vnnlib == d3.vnnlib == d4.vnnlib == d5.vnnlib\n",
    "    dps = [d1, d2, d3, d4, d5]\n",
    "    if any([i.skip for i in dps]):\n",
    "        continue\n",
    "        \n",
    "    spns = [cal_slowdown_per_neuron(dp) for dp in dps]\n",
    "    slowdowns = [cal_slowdown(dp) for dp in dps]\n",
    "    spn_total = [a+b for a,b in zip(spn_total, spns)]\n",
    "    slowdown_total = [a+b for a,b in zip(slowdown_total, slowdowns)]\n",
    "    cnt += 1\n",
    "        \n",
    "    \n",
    "print(\"<< abcrown >>\")\n",
    "print([i.split(\"~\")[2:-1] for i in fnames])\n",
    "formatted_spn = [format_number(i/cnt) for i in spn_total]\n",
    "print(\" & \".join(formatted_spn))\n",
    "\n",
    "# Format and print slowdown_total\n",
    "formatted_slowdown = [format_number(i/cnt) for i in slowdown_total]\n",
    "print(\" & \".join(formatted_slowdown))"
   ]
  },
  {
   "cell_type": "code",
   "execution_count": 17,
   "id": "7fe5458e",
   "metadata": {},
   "outputs": [
    {
     "name": "stdout",
     "output_type": "stream",
     "text": [
      "<< neuralsat >>\n",
      "[['stable+', 'random'], ['stable-', 'random'], ['unstable', 'random'], ['unstable', 'reluS+'], ['unstable', 'reluS-']]\n",
      "0.078 & 0.005 & 0.003 & 0.002 & 0.002\n",
      "5.558 & 6.960 & 9.562 & 8.949 & 8.936\n"
     ]
    }
   ],
   "source": [
    "\n",
    "fnames = []\n",
    "rows = []\n",
    "\n",
    "for r in res_nsat:\n",
    "    fname, dps = load_csv(r)\n",
    "    fnames.append(fname)\n",
    "    rows.append(dps)\n",
    "\n",
    "cnt = 0\n",
    "spn_total = [0,0,0,0,0]\n",
    "slowdown_total  = [0,0,0,0,0]\n",
    "for d1,d2,d3,d4,d5 in zip(*rows):\n",
    "    assert d1.onnx == d2.onnx == d3.onnx == d4.onnx == d5.onnx\n",
    "    assert d1.vnnlib == d2.vnnlib == d3.vnnlib == d4.vnnlib == d5.vnnlib\n",
    "    dps = [d1, d2, d3, d4, d5]\n",
    "    if any([i.skip for i in dps]):\n",
    "        continue\n",
    "        \n",
    "    spns = [cal_slowdown_per_neuron(dp) for dp in dps]\n",
    "    slowdowns = [cal_slowdown(dp) for dp in dps]\n",
    "    spn_total = [a+b for a,b in zip(spn_total, spns)]\n",
    "    slowdown_total = [a+b for a,b in zip(slowdown_total, slowdowns)]\n",
    "    cnt += 1\n",
    "        \n",
    "    \n",
    "print(\"<< neuralsat >>\")\n",
    "print([i.split(\"~\")[2:-1] for i in fnames])\n",
    "formatted_spn = [format_number(i/cnt) for i in spn_total]\n",
    "print(\" & \".join(formatted_spn))\n",
    "\n",
    "# Format and print slowdown_total\n",
    "formatted_slowdown = [format_number(i/cnt) for i in slowdown_total]\n",
    "print(\" & \".join(formatted_slowdown))"
   ]
  },
  {
   "cell_type": "code",
   "execution_count": null,
   "id": "80d56ce3",
   "metadata": {},
   "outputs": [],
   "source": []
  },
  {
   "cell_type": "code",
   "execution_count": null,
   "id": "02dd7fbf",
   "metadata": {},
   "outputs": [],
   "source": []
  }
 ],
 "metadata": {
  "kernelspec": {
   "display_name": "Python 3 (ipykernel)",
   "language": "python",
   "name": "python3"
  },
  "language_info": {
   "codemirror_mode": {
    "name": "ipython",
    "version": 3
   },
   "file_extension": ".py",
   "mimetype": "text/x-python",
   "name": "python",
   "nbconvert_exporter": "python",
   "pygments_lexer": "ipython3",
   "version": "3.9.20"
  }
 },
 "nbformat": 4,
 "nbformat_minor": 5
}
